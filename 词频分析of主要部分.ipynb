{
 "cells": [
  {
   "cell_type": "markdown",
   "metadata": {
    "hide_input": true
   },
   "source": [
    "## 代码目的\n"
   ]
  },
  {
   "cell_type": "markdown",
   "metadata": {
    "hide_input": false
   },
   "source": [
    "### 聊天记录原文\n",
    "关于词频分析，我思考了几天，初步提出了一个方案，分别以省级和市级的《意见》、《公共》方案中的主要部分，即原则、内容两部分内容来进行分析。其他细分领域的关键词不太好提取。先按照这个方案去做一下试试看。\n",
    "\n",
    "词频分析：既是关键词，又可能是高频词。表和图汇报。\n",
    "\n",
    "（一）省级\n",
    "\n",
    "1、《意见》\n",
    "“划分原则”：受益范围、信息、权责、激励、谁的财政事权谁承担支出责任。\n",
    "“主要内容”：中央财政事权、省级财政事权、市以下（市县）财政事权、共同财政事权、调整，省级承担支出责任、市以下（市县）承担支出责任、各自承担相应支出责任，市以下财政事权和支出责任。\n",
    "\n",
    "2、《公共》\n",
    "“基本原则”：基本公共服务、中央、保障、国家基础标准、差别化、改革。\n",
    "“主要内容”：共同财政事权、国家基础标准、按比例分担、转移支付、支出责任。\n",
    "\n",
    "（二）市级\n",
    "\n",
    "1、《意见》\n",
    "“划分原则”：受益范围、信息、权责明确、激励、谁的财政事权谁承担支出责任。\n",
    "“主要内容”：市级财政事权、县以下财政事权、共同财政事权、调整，市级承担支出责任、县级（县以下）承担支出责任、市、县各自承担相应支出责任。\n",
    "\n",
    "2、《公共》\n",
    "“基本原则”：基本公共服务、中央、保障、国家基础标准、差别化、改革。\n",
    "“主要内容”：共同财政事权、国家基础标准、按比例分担、转移支付、支出责任。"
   ]
  },
  {
   "cell_type": "markdown",
   "metadata": {},
   "source": [
    "### 练习Git的使用\n",
    "<font color=black size=4 face=雅黑>**常用的Git命令**</font>\n",
    "\n",
    "- 初始化操作\n",
    "git init //在当前项目目录中生成本地git管理,并建立一个隐藏.git目录  \n",
    "git add . //添加当前目录中的所有文件到索引  \n",
    "git commit -m \"first commit\" //提交到本地源码库，并附加提交注释  \n",
    "git remote add origin https://github.com/xiaoyaojiushao/xiaoyaoEco //添加到远程项目，别名为origin  \n",
    "git push -u origin master //把本地源码库push到github 别名为origin的远程项目中，确认提交  \n",
    "\n",
    "\n",
    "- 本地和云端保持同步  \n",
    "git push origin master //把本地源码库push到Github上  \n",
    "git pull origin master //从Github上pull到本地源码库  \n",
    "\n",
    "\n",
    "- 更新代码  \n",
    "git add filename  \n",
    "git commit -m \"update test\" //检测文件改动并附加提交注释  \n",
    "git push -u origin master //提交修改到项目主线  "
   ]
  },
  {
   "cell_type": "markdown",
   "metadata": {},
   "source": [
    "## 初步实验"
   ]
  },
  {
   "cell_type": "markdown",
   "metadata": {},
   "source": [
    "### 实验目的"
   ]
  },
  {
   "cell_type": "markdown",
   "metadata": {
    "ExecuteTime": {
     "end_time": "2020-10-03T05:49:10.479154Z",
     "start_time": "2020-10-03T05:49:10.472177Z"
    }
   },
   "source": [
    "- 看一下在原文本中加入分隔符进行剪切的方法是否可行\n",
    "- 看一下在把文件传到GitHub上的步骤，并逐渐熟练"
   ]
  },
  {
   "cell_type": "markdown",
   "metadata": {},
   "source": [
    "### 实验代码"
   ]
  },
  {
   "cell_type": "code",
   "execution_count": 2,
   "metadata": {
    "ExecuteTime": {
     "end_time": "2020-10-03T05:02:41.648270Z",
     "start_time": "2020-10-03T05:02:41.638297Z"
    },
    "hide_input": false
   },
   "outputs": [
    {
     "name": "stdout",
     "output_type": "stream",
     "text": [
      "（二）基本原则。\n",
      "——坚持以人民为中心。从解决人民最关心最直接最现实的利益问题入手，首先将教育、医疗卫生、社会保障等领域中与人直接相关的主要基本公共服务事项明确为中央与地方共同财政事权，并合理划分支出责任，同时完善相关转移支付制度，确保更好地为人民群众提供基本公共服务。\n",
      "——坚持财政事权划分由中央决定。完善中央决策、地方落实的机制。基本公共服务领域共同财政事权范围、支出责任分担方式、国家基础标准由中央确定；明确地方政府职责，充分发挥地方政府区域管理优势和积极性，保障政策落实。\n",
      "——坚持保障标准合理适度。既要尽力而为，加快推进基本公共服务均等化，适时调整国家基础标准，逐步提高保障水平；又要量力而行，兼顾各级财政承受能力，不超越经济社会发展阶段，兜牢基本民生保障底线。\n",
      "——坚持差别化分担。充分考虑我国各地经济社会发展不平衡、基本公共服务成本和财力差异较大的国情，中央承担的支出责任要有所区别，体现向困难地区倾斜，并逐步规范、适当简化基本公共服务领域共同财政事权支出责任的分担方式。\n",
      "——坚持积极稳妥推进。基本公共服务领域中央与地方共同财政事权和支出责任划分是一个动态调整、不断完善的过程，既要加强顶层设计，明确改革路径和方式，又要加强与各领域管理体制改革的衔接，在管理体制和相关政策比较明确、支出责任分担机制相对稳定的民生领域首先实现突破。\n",
      "\n",
      "----------------------\n",
      "“中央”出现的次数:\n",
      "6\n"
     ]
    }
   ],
   "source": [
    "# 实验开始\n",
    "tempstr = '中央和地方政府之间[分隔符]的权责划分标准'\n",
    "splitStrs = tempstr.split('[分隔符]')\n",
    "# print(splitStrs)\n",
    "\n",
    "# 搞一个文件看一下\n",
    "f = open('./加了分隔符/啦啦啦.txt', encoding='utf-8')\n",
    "fileStr = f.read()\n",
    "f.close()\n",
    "fileSplitStr = fileStr.split('[逍遥分隔符]')\n",
    "print(fileSplitStr[1])\n",
    "# print('\\n')\n",
    "# print(fileSplitStr[2])\n",
    "\n",
    "# 看一下如何统计出特定词语的词频\n",
    "# 先去百度一下\n",
    "print('----------------------')\n",
    "print('“中央”出现的次数:')\n",
    "count = fileSplitStr[1].count('中央')\n",
    "print(count)\n",
    "\n",
    "# 定义几个常量\n",
    "# [逍遥分隔符]\n",
    "# （一）省级\n",
    "PROVINCE_IDEA_DividePrinciple = ['受益范围','信息','权责','激励','谁的财政事权谁承担支出责任']\n",
    "PROVINCE_IDEA_MainContent = ['中央财政事权','省级财政事权','市以下（市县）财政事权','共同财政事权','调整','省级承担支出责任','市以下（市县）承担支出责任','各自承担相应支出责任','市以下财政事权和支出责任']\n",
    "# 1、《意见》 “划分原则”：受益范围、信息、权责、激励、谁的财政事权谁承担支出责任。 \n",
    "#    “主要内容”：中央财政事权、省级财政事权、市以下（市县）财政事权、共同财政事权、调整，省级承担支出责任、市以下（市县）承担支出责任、各自承担相应支出责任，市以下财政事权和支出责任。\n",
    "\n",
    "PROVINCE_PUBLIC_DividePrinciple = ['基本公共服务','中央','保障','国家基础标准','差别化','改革']\n",
    "PROVINCE_PUBLIC_MainContent = ['共同财政事权','国家基础标准','按比例分担','转移支付','支出责任']\n",
    "# 2、《公共》 “基本原则”：基本公共服务、中央、保障、国家基础标准、差别化、改革。 \n",
    "#     “主要内容”：共同财政事权、国家基础标准、按比例分担、转移支付、支出责任。\n",
    "\n",
    "# （二）市级\n",
    "CITY_IDEA_DividePrinciple = ['受益范围','信息','权责明确','激励','谁的财政事权谁承担支出责任']\n",
    "CITY_IDEA_MainContent = ['市级财政事权','县以下财政事权','共同财政事权','调整','市级承担支出责任','县级（县以下）承担支出责任','市、县各自承担相应支出责任']\n",
    "# 1、《意见》 “划分原则”：受益范围、信息、权责明确、激励、谁的财政事权谁承担支出责任。\n",
    "#     “主要内容”：市级财政事权、县以下财政事权、共同财政事权、调整，市级承担支出责任、县级（县以下）承担支出责任、市、县各自承担相应支出责任。\n",
    "CITY_PUBLIC_DividePrinciple = ['基本公共服务','中央','保障','国家基础标准','差别化','改革']\n",
    "CITY_PUBLIC_MainContent = ['共同财政事权','国家基础标准','按比例分担','转移支付','支出责任']\n",
    "# 2、《公共》 “基本原则”：基本公共服务、中央、保障、国家基础标准、差别化、改革。\n",
    "#      “主要内容”：共同财政事权、国家基础标准、按比例分担、转移支付、支出责任。\n"
   ]
  },
  {
   "cell_type": "markdown",
   "metadata": {},
   "source": [
    "## 主代码\n",
    "### 编程思路\n",
    "\n",
    "根据我的理解  \n",
    "\n",
    "- 他只给了意见和公共的高频词,因此我们只要搞这两个文本就好了\n",
    "- 所以首先要把这两方面的文件给找出来,放到专门的文件夹\n",
    "- 手动给文件加入[逍遥分隔符]\n",
    "- 进行词频统计\n",
    "  - 合并还是单个\n",
    "  - 单个的话数量太少了吧...\n",
    "  - 那就先合并一下,做一份发给他,问问他意见如何\n",
    "- 结果的展示\n",
    "  - 他说要以图和表的形式\n",
    "  - 首先一个频次展示表\n",
    "  - 图的话,那只能柱状图了\n",
    "  - 倒是可以用词云,先做一个吧,不一定管用"
   ]
  },
  {
   "cell_type": "markdown",
   "metadata": {},
   "source": [
    "### 编程实际操作"
   ]
  },
  {
   "cell_type": "markdown",
   "metadata": {},
   "source": [
    "#### 将《意见》和《公共》领域的文本提取到另一个文件夹"
   ]
  },
  {
   "cell_type": "code",
   "execution_count": 12,
   "metadata": {
    "ExecuteTime": {
     "end_time": "2020-10-03T08:31:00.303734Z",
     "start_time": "2020-10-03T08:31:00.207985Z"
    },
    "code_folding": [
     0,
     12,
     35,
     42
    ]
   },
   "outputs": [
    {
     "name": "stdout",
     "output_type": "stream",
     "text": [
      "文件移动已完成\n",
      "省级的意见文件有18个\n",
      "省级的公共文件有21个\n",
      "市级的意见文件有48个\n",
      "市级的公共文件有32个\n"
     ]
    }
   ],
   "source": [
    "# 思想：读取，然后写入新文件\n",
    "import os\n",
    "\n",
    "prov_files = os.listdir('./省级')\n",
    "# len(prov_files)\n",
    "city_files = os.listdir('./市级_不含文件夹')\n",
    "\n",
    "prov_idea = []\n",
    "prov_public = []\n",
    "city_idea = []\n",
    "city_public = []\n",
    "\n",
    "def move_file(filename = '广西-意见.txt',model = 'prov',region = 'idea'):\n",
    "    prefix = ''\n",
    "    new_file = ''\n",
    "    if model == 'prov':\n",
    "        prefix = './省级/'\n",
    "        if region == 'idea':\n",
    "            new_file = './加了分隔符/省级/' + '意见/' + filename\n",
    "        if region == 'public':\n",
    "            new_file = './加了分隔符/省级/' + '公共/' + filename\n",
    "    if model == 'city':\n",
    "        prefix = './市级_不含文件夹/'\n",
    "        if region == 'idea':\n",
    "            new_file = './加了分隔符/市级/' + '意见/' + filename\n",
    "        if region == 'public':\n",
    "            new_file = './加了分隔符/市级/' + '公共/' + filename\n",
    "    origin_file = prefix + filename\n",
    "    f = open(origin_file, encoding = 'utf-8')\n",
    "    temp_str = f.read()\n",
    "    f.close()\n",
    "    with open(new_file ,'w',encoding = 'utf-8') as central:\n",
    "        central.write(temp_str)\n",
    "    \n",
    "# 筛选合适的文件\n",
    "for prov_file in prov_files:\n",
    "    if '意见' in prov_file:\n",
    "        prov_idea.append(prov_file)\n",
    "        move_file(filename = prov_file, model = 'prov',region = 'idea')\n",
    "    if '公共' in prov_file:\n",
    "        prov_public.append(prov_file)\n",
    "        move_file(filename = prov_file, model = 'prov', region = 'public')\n",
    "for city_file in city_files:\n",
    "    if '意见' in city_file:\n",
    "        city_idea.append(city_file)\n",
    "        move_file(filename = city_file, model = 'city',region = 'idea')\n",
    "    if '公共' in city_file:\n",
    "        city_public.append(city_file)\n",
    "        move_file(filename = city_file, model = 'city',region = 'public')\n",
    "\n",
    "print('文件移动已完成')\n",
    "print('省级的意见文件有'+str(len(prov_idea)) + '个')\n",
    "print('省级的公共文件有'+str(len(prov_public)) + '个')\n",
    "print('市级的意见文件有'+str(len(city_idea)) + '个')\n",
    "print('市级的公共文件有'+str(len(city_public)) + '个')"
   ]
  },
  {
   "cell_type": "markdown",
   "metadata": {},
   "source": [
    "#### 手动加入逍遥分隔符..."
   ]
  },
  {
   "cell_type": "markdown",
   "metadata": {},
   "source": [
    "手动操作ing  \n",
    "PS：待会做的时候，要先去掉文本里的回车和空格\n",
    "做之前先检查一下有没有分隔符存在  然后检查一下有没有弄重复了的，比如四个原则，四个内容什么的\n",
    "[逍遥分隔符-原则]\n",
    "[逍遥分隔符-内容]\n",
    "一些记录：  \n",
    "没有原则：\n",
    "广西-意见\n",
    "湖北-意见\n",
    "广东-公共\n",
    "贵州-公共\n",
    "重庆-公共\n",
    "广西-北海-意见\n",
    "河南-濮阳-意见。。。\n",
    "河南-三门峡-意见----真没有\n",
    "山东-威海-意见\n",
    "广西-南宁-公共\n",
    "云南-昆明-公共\n",
    "\n",
    "没有内容：\n",
    " 江西-意见\n",
    " 重庆-意见\n",
    " 广东-公共\n",
    " 广西-公共\n",
    " 河北-公共\n",
    "   \n",
    " 啊 加完了"
   ]
  },
  {
   "cell_type": "code",
   "execution_count": null,
   "metadata": {},
   "outputs": [],
   "source": []
  }
 ],
 "metadata": {
  "kernelspec": {
   "display_name": "Python 3",
   "language": "python",
   "name": "python3"
  },
  "language_info": {
   "codemirror_mode": {
    "name": "ipython",
    "version": 3
   },
   "file_extension": ".py",
   "mimetype": "text/x-python",
   "name": "python",
   "nbconvert_exporter": "python",
   "pygments_lexer": "ipython3",
   "version": "3.7.1"
  },
  "toc": {
   "base_numbering": 1,
   "nav_menu": {},
   "number_sections": true,
   "sideBar": true,
   "skip_h1_title": false,
   "title_cell": "Table of Contents",
   "title_sidebar": "Contents",
   "toc_cell": false,
   "toc_position": {
    "height": "calc(100% - 180px)",
    "left": "10px",
    "top": "150px",
    "width": "321.825px"
   },
   "toc_section_display": true,
   "toc_window_display": true
  },
  "varInspector": {
   "cols": {
    "lenName": 16,
    "lenType": 16,
    "lenVar": 40
   },
   "kernels_config": {
    "python": {
     "delete_cmd_postfix": "",
     "delete_cmd_prefix": "del ",
     "library": "var_list.py",
     "varRefreshCmd": "print(var_dic_list())"
    },
    "r": {
     "delete_cmd_postfix": ") ",
     "delete_cmd_prefix": "rm(",
     "library": "var_list.r",
     "varRefreshCmd": "cat(var_dic_list()) "
    }
   },
   "position": {
    "height": "188.4px",
    "left": "972.2px",
    "right": "20px",
    "top": "82px",
    "width": "507px"
   },
   "types_to_exclude": [
    "module",
    "function",
    "builtin_function_or_method",
    "instance",
    "_Feature"
   ],
   "window_display": false
  }
 },
 "nbformat": 4,
 "nbformat_minor": 2
}
